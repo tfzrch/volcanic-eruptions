{
 "cells": [
  {
   "cell_type": "markdown",
   "id": "47b27c06-4a63-4862-a48d-e3d8133f1d21",
   "metadata": {
    "tags": []
   },
   "source": [
    "# Volcanic Eruptions - Cleaning\n",
    "\n",
    "## Setup"
   ]
  },
  {
   "cell_type": "code",
   "execution_count": 1,
   "id": "c1356789-ef02-4572-9c18-f59e43971d5f",
   "metadata": {},
   "outputs": [],
   "source": [
    "# import libraries\n",
    "import pandas as pd\n",
    "import numpy as np\n",
    "import re\n",
    "from itertools import compress"
   ]
  },
  {
   "cell_type": "code",
   "execution_count": 2,
   "id": "01ee5f87-ed54-4274-bda0-ee5c4d8d8589",
   "metadata": {},
   "outputs": [],
   "source": [
    "# project root\n",
    "here = \"../\"\n",
    "\n",
    "# read data\n",
    "eruptions = pd.read_csv(here + 'data/extdata/smithsonian-volcanic-eruptions.csv')"
   ]
  },
  {
   "cell_type": "markdown",
   "id": "bdb3081c-2982-4714-94b8-e88a95cb4795",
   "metadata": {
    "tags": []
   },
   "source": [
    "## Show data info"
   ]
  },
  {
   "cell_type": "code",
   "execution_count": 3,
   "id": "a3fb4934-6855-4289-866d-83b11d0d4a1d",
   "metadata": {},
   "outputs": [
    {
     "data": {
      "text/html": [
       "<div>\n",
       "<style scoped>\n",
       "    .dataframe tbody tr th:only-of-type {\n",
       "        vertical-align: middle;\n",
       "    }\n",
       "\n",
       "    .dataframe tbody tr th {\n",
       "        vertical-align: top;\n",
       "    }\n",
       "\n",
       "    .dataframe thead th {\n",
       "        text-align: right;\n",
       "    }\n",
       "</style>\n",
       "<table border=\"1\" class=\"dataframe\">\n",
       "  <thead>\n",
       "    <tr style=\"text-align: right;\">\n",
       "      <th></th>\n",
       "      <th>Number</th>\n",
       "      <th>Name</th>\n",
       "      <th>Country</th>\n",
       "      <th>Region</th>\n",
       "      <th>Type</th>\n",
       "      <th>Activity Evidence</th>\n",
       "      <th>Last Known Eruption</th>\n",
       "      <th>Latitude</th>\n",
       "      <th>Longitude</th>\n",
       "      <th>Elevation (Meters)</th>\n",
       "      <th>Dominant Rock Type</th>\n",
       "      <th>Tectonic Setting</th>\n",
       "    </tr>\n",
       "  </thead>\n",
       "  <tbody>\n",
       "    <tr>\n",
       "      <th>0</th>\n",
       "      <td>210010</td>\n",
       "      <td>West Eifel Volcanic Field</td>\n",
       "      <td>Germany</td>\n",
       "      <td>Mediterranean and Western Asia</td>\n",
       "      <td>Maar(s)</td>\n",
       "      <td>Eruption Dated</td>\n",
       "      <td>8300 BCE</td>\n",
       "      <td>50.170</td>\n",
       "      <td>6.85</td>\n",
       "      <td>600</td>\n",
       "      <td>Foidite</td>\n",
       "      <td>Rift Zone / Continental Crust (&gt;25 km)</td>\n",
       "    </tr>\n",
       "    <tr>\n",
       "      <th>1</th>\n",
       "      <td>210020</td>\n",
       "      <td>Chaine des Puys</td>\n",
       "      <td>France</td>\n",
       "      <td>Mediterranean and Western Asia</td>\n",
       "      <td>Lava dome(s)</td>\n",
       "      <td>Eruption Dated</td>\n",
       "      <td>4040 BCE</td>\n",
       "      <td>45.775</td>\n",
       "      <td>2.97</td>\n",
       "      <td>1464</td>\n",
       "      <td>Basalt / Picro-Basalt</td>\n",
       "      <td>Rift Zone / Continental Crust (&gt;25 km)</td>\n",
       "    </tr>\n",
       "    <tr>\n",
       "      <th>2</th>\n",
       "      <td>210030</td>\n",
       "      <td>Olot Volcanic Field</td>\n",
       "      <td>Spain</td>\n",
       "      <td>Mediterranean and Western Asia</td>\n",
       "      <td>Pyroclastic cone(s)</td>\n",
       "      <td>Evidence Credible</td>\n",
       "      <td>Unknown</td>\n",
       "      <td>42.170</td>\n",
       "      <td>2.53</td>\n",
       "      <td>893</td>\n",
       "      <td>Trachybasalt / Tephrite Basanite</td>\n",
       "      <td>Intraplate / Continental Crust (&gt;25 km)</td>\n",
       "    </tr>\n",
       "    <tr>\n",
       "      <th>3</th>\n",
       "      <td>210040</td>\n",
       "      <td>Calatrava Volcanic Field</td>\n",
       "      <td>Spain</td>\n",
       "      <td>Mediterranean and Western Asia</td>\n",
       "      <td>Pyroclastic cone(s)</td>\n",
       "      <td>Eruption Dated</td>\n",
       "      <td>3600 BCE</td>\n",
       "      <td>38.870</td>\n",
       "      <td>-4.02</td>\n",
       "      <td>1117</td>\n",
       "      <td>Basalt / Picro-Basalt</td>\n",
       "      <td>Intraplate / Continental Crust (&gt;25 km)</td>\n",
       "    </tr>\n",
       "    <tr>\n",
       "      <th>4</th>\n",
       "      <td>211001</td>\n",
       "      <td>Larderello</td>\n",
       "      <td>Italy</td>\n",
       "      <td>Mediterranean and Western Asia</td>\n",
       "      <td>Explosion crater(s)</td>\n",
       "      <td>Eruption Observed</td>\n",
       "      <td>1282 CE</td>\n",
       "      <td>43.250</td>\n",
       "      <td>10.87</td>\n",
       "      <td>500</td>\n",
       "      <td>No Data</td>\n",
       "      <td>Subduction Zone / Continental Crust (&gt;25 km)</td>\n",
       "    </tr>\n",
       "  </tbody>\n",
       "</table>\n",
       "</div>"
      ],
      "text/plain": [
       "   Number                       Name  Country                          Region  \\\n",
       "0  210010  West Eifel Volcanic Field  Germany  Mediterranean and Western Asia   \n",
       "1  210020            Chaine des Puys   France  Mediterranean and Western Asia   \n",
       "2  210030        Olot Volcanic Field    Spain  Mediterranean and Western Asia   \n",
       "3  210040   Calatrava Volcanic Field    Spain  Mediterranean and Western Asia   \n",
       "4  211001                 Larderello    Italy  Mediterranean and Western Asia   \n",
       "\n",
       "                  Type  Activity Evidence Last Known Eruption  Latitude  \\\n",
       "0              Maar(s)     Eruption Dated            8300 BCE    50.170   \n",
       "1         Lava dome(s)     Eruption Dated            4040 BCE    45.775   \n",
       "2  Pyroclastic cone(s)  Evidence Credible             Unknown    42.170   \n",
       "3  Pyroclastic cone(s)     Eruption Dated            3600 BCE    38.870   \n",
       "4  Explosion crater(s)  Eruption Observed             1282 CE    43.250   \n",
       "\n",
       "   Longitude  Elevation (Meters)                Dominant Rock Type  \\\n",
       "0       6.85                 600                           Foidite   \n",
       "1       2.97                1464             Basalt / Picro-Basalt   \n",
       "2       2.53                 893  Trachybasalt / Tephrite Basanite   \n",
       "3      -4.02                1117             Basalt / Picro-Basalt   \n",
       "4      10.87                 500                           No Data   \n",
       "\n",
       "                               Tectonic Setting  \n",
       "0        Rift Zone / Continental Crust (>25 km)  \n",
       "1        Rift Zone / Continental Crust (>25 km)  \n",
       "2       Intraplate / Continental Crust (>25 km)  \n",
       "3       Intraplate / Continental Crust (>25 km)  \n",
       "4  Subduction Zone / Continental Crust (>25 km)  "
      ]
     },
     "execution_count": 3,
     "metadata": {},
     "output_type": "execute_result"
    }
   ],
   "source": [
    "eruptions.head()"
   ]
  },
  {
   "cell_type": "code",
   "execution_count": 4,
   "id": "f45ec458-a72b-447d-9cc5-9b68e0687a96",
   "metadata": {},
   "outputs": [
    {
     "name": "stdout",
     "output_type": "stream",
     "text": [
      "<class 'pandas.core.frame.DataFrame'>\n",
      "RangeIndex: 1508 entries, 0 to 1507\n",
      "Data columns (total 12 columns):\n",
      " #   Column               Non-Null Count  Dtype  \n",
      "---  ------               --------------  -----  \n",
      " 0   Number               1508 non-null   int64  \n",
      " 1   Name                 1508 non-null   object \n",
      " 2   Country              1508 non-null   object \n",
      " 3   Region               1508 non-null   object \n",
      " 4   Type                 1508 non-null   object \n",
      " 5   Activity Evidence    1507 non-null   object \n",
      " 6   Last Known Eruption  1508 non-null   object \n",
      " 7   Latitude             1508 non-null   float64\n",
      " 8   Longitude            1508 non-null   float64\n",
      " 9   Elevation (Meters)   1508 non-null   int64  \n",
      " 10  Dominant Rock Type   1455 non-null   object \n",
      " 11  Tectonic Setting     1501 non-null   object \n",
      "dtypes: float64(2), int64(2), object(8)\n",
      "memory usage: 141.5+ KB\n"
     ]
    }
   ],
   "source": [
    "eruptions.info()"
   ]
  },
  {
   "cell_type": "markdown",
   "id": "385d8c93-746c-4230-92ef-5cae002d42ae",
   "metadata": {
    "tags": []
   },
   "source": [
    "## Cleaning"
   ]
  },
  {
   "cell_type": "code",
   "execution_count": 5,
   "id": "51c24289-f74a-4d8b-9114-2fcc12c7fc83",
   "metadata": {},
   "outputs": [],
   "source": [
    "# Standardise column names\n",
    "\n",
    "# drop (, ); replace spaces; to lower\n",
    "eruptions.columns = [re.sub(r\"(\\(|\\))\", \"\", C.lower().replace(\" \", \"_\")) for C in eruptions.columns]\n",
    "\n",
    "# shorten column names\n",
    "eruptions.rename(columns = {'latitude': 'lat', 'longitude': 'lon'}, inplace=True)\n",
    "eruptions.rename(\n",
    "    columns = {\n",
    "        'number': 'id', \n",
    "        'elevation_meters': 'elevation', \n",
    "        'dominant_rock_type': 'dominant_rock'\n",
    "    }, \n",
    "    inplace = True\n",
    ")"
   ]
  },
  {
   "cell_type": "markdown",
   "id": "1472ce5e-41e9-40df-b329-575c4fb1c126",
   "metadata": {},
   "source": [
    "### Dates"
   ]
  },
  {
   "cell_type": "markdown",
   "id": "c22f084e-7b5f-4954-b22d-044e3eb21021",
   "metadata": {},
   "source": [
    "The dates of the last known eruption for each volcano are given in the BCE/CE system. But, we need to check for values that don't match a consistent format before they can be converted to a more usable system.\n",
    "\n",
    "A quick inspection shows that at least some missing values are encoded as `'Unknown'`"
   ]
  },
  {
   "cell_type": "code",
   "execution_count": 6,
   "id": "33140c64-d18b-494c-89f4-89484a222772",
   "metadata": {},
   "outputs": [
    {
     "data": {
      "text/html": [
       "<div>\n",
       "<style scoped>\n",
       "    .dataframe tbody tr th:only-of-type {\n",
       "        vertical-align: middle;\n",
       "    }\n",
       "\n",
       "    .dataframe tbody tr th {\n",
       "        vertical-align: top;\n",
       "    }\n",
       "\n",
       "    .dataframe thead th {\n",
       "        text-align: right;\n",
       "    }\n",
       "</style>\n",
       "<table border=\"1\" class=\"dataframe\">\n",
       "  <thead>\n",
       "    <tr style=\"text-align: right;\">\n",
       "      <th></th>\n",
       "      <th>id</th>\n",
       "      <th>name</th>\n",
       "      <th>last_known_eruption</th>\n",
       "    </tr>\n",
       "  </thead>\n",
       "  <tbody>\n",
       "    <tr>\n",
       "      <th>0</th>\n",
       "      <td>210010</td>\n",
       "      <td>West Eifel Volcanic Field</td>\n",
       "      <td>8300 BCE</td>\n",
       "    </tr>\n",
       "    <tr>\n",
       "      <th>1</th>\n",
       "      <td>210020</td>\n",
       "      <td>Chaine des Puys</td>\n",
       "      <td>4040 BCE</td>\n",
       "    </tr>\n",
       "    <tr>\n",
       "      <th>2</th>\n",
       "      <td>210030</td>\n",
       "      <td>Olot Volcanic Field</td>\n",
       "      <td>Unknown</td>\n",
       "    </tr>\n",
       "    <tr>\n",
       "      <th>3</th>\n",
       "      <td>210040</td>\n",
       "      <td>Calatrava Volcanic Field</td>\n",
       "      <td>3600 BCE</td>\n",
       "    </tr>\n",
       "    <tr>\n",
       "      <th>4</th>\n",
       "      <td>211001</td>\n",
       "      <td>Larderello</td>\n",
       "      <td>1282 CE</td>\n",
       "    </tr>\n",
       "  </tbody>\n",
       "</table>\n",
       "</div>"
      ],
      "text/plain": [
       "       id                       name last_known_eruption\n",
       "0  210010  West Eifel Volcanic Field            8300 BCE\n",
       "1  210020            Chaine des Puys            4040 BCE\n",
       "2  210030        Olot Volcanic Field             Unknown\n",
       "3  210040   Calatrava Volcanic Field            3600 BCE\n",
       "4  211001                 Larderello             1282 CE"
      ]
     },
     "execution_count": 6,
     "metadata": {},
     "output_type": "execute_result"
    }
   ],
   "source": [
    "eruptions[['id', 'name', 'last_known_eruption']].head()"
   ]
  },
  {
   "cell_type": "markdown",
   "id": "b86d701b-2b9e-4ce7-8adc-6f812640593a",
   "metadata": {},
   "source": [
    "We can also use regex matching to check for values that don't match a sequence of up to four digits followed by a space and either `'BCE'` or `'CE'`."
   ]
  },
  {
   "cell_type": "code",
   "execution_count": 7,
   "id": "37ce1fd8-d48e-41ae-8c71-34ec1ae76564",
   "metadata": {},
   "outputs": [
    {
     "data": {
      "text/plain": [
       "['10450 BCE', 'Unknown']"
      ]
     },
     "execution_count": 7,
     "metadata": {},
     "output_type": "execute_result"
    }
   ],
   "source": [
    "# Get list of unique values in the `last_known_eruption` column\n",
    "unique_dates = eruptions['last_known_eruption'].sort_values().unique()\n",
    "\n",
    "# Filter the list for values that don't match standard date\n",
    "list(compress(unique_dates, [re.search(r\"^\\d{1,4}\\s(BCE|CE)$\", date)==None for date in unique_dates]))"
   ]
  },
  {
   "cell_type": "markdown",
   "id": "a9c0d9ab-0508-4a0e-8ab8-e2a02fa93905",
   "metadata": {},
   "source": [
    "This revealed that only 'Unkown' and a single date made up of five digits don't \n",
    "match, so minimal cleaning will be needed before converting dates.\n",
    "\n",
    "There was one record where the last known eruption was given as \"0 CE\". As there\n",
    "is no 'year 0' in the BC/AD or BCE/CE system, we need to remove this row."
   ]
  },
  {
   "cell_type": "code",
   "execution_count": 8,
   "id": "1b64f0a5-3c59-4ab9-89f0-b75d69dd0522",
   "metadata": {},
   "outputs": [
    {
     "data": {
      "text/html": [
       "<div>\n",
       "<style scoped>\n",
       "    .dataframe tbody tr th:only-of-type {\n",
       "        vertical-align: middle;\n",
       "    }\n",
       "\n",
       "    .dataframe tbody tr th {\n",
       "        vertical-align: top;\n",
       "    }\n",
       "\n",
       "    .dataframe thead th {\n",
       "        text-align: right;\n",
       "    }\n",
       "</style>\n",
       "<table border=\"1\" class=\"dataframe\">\n",
       "  <thead>\n",
       "    <tr style=\"text-align: right;\">\n",
       "      <th></th>\n",
       "      <th>id</th>\n",
       "      <th>name</th>\n",
       "      <th>country</th>\n",
       "      <th>region</th>\n",
       "      <th>type</th>\n",
       "      <th>activity_evidence</th>\n",
       "      <th>last_known_eruption</th>\n",
       "      <th>lat</th>\n",
       "      <th>lon</th>\n",
       "      <th>elevation</th>\n",
       "      <th>dominant_rock</th>\n",
       "      <th>tectonic_setting</th>\n",
       "    </tr>\n",
       "  </thead>\n",
       "  <tbody>\n",
       "    <tr>\n",
       "      <th>874</th>\n",
       "      <td>305011</td>\n",
       "      <td>Arshan</td>\n",
       "      <td>China</td>\n",
       "      <td>Kamchatka and Mainland Asia</td>\n",
       "      <td>Pyroclastic cone(s)</td>\n",
       "      <td>Eruption Dated</td>\n",
       "      <td>0 CE</td>\n",
       "      <td>47.5</td>\n",
       "      <td>120.7</td>\n",
       "      <td>0</td>\n",
       "      <td>Basalt / Picro-Basalt</td>\n",
       "      <td>Intraplate / Continental Crust (&gt;25 km)</td>\n",
       "    </tr>\n",
       "  </tbody>\n",
       "</table>\n",
       "</div>"
      ],
      "text/plain": [
       "         id    name country                       region                 type  \\\n",
       "874  305011  Arshan   China  Kamchatka and Mainland Asia  Pyroclastic cone(s)   \n",
       "\n",
       "    activity_evidence last_known_eruption   lat    lon  elevation  \\\n",
       "874    Eruption Dated                0 CE  47.5  120.7          0   \n",
       "\n",
       "             dominant_rock                         tectonic_setting  \n",
       "874  Basalt / Picro-Basalt  Intraplate / Continental Crust (>25 km)  "
      ]
     },
     "execution_count": 8,
     "metadata": {},
     "output_type": "execute_result"
    }
   ],
   "source": [
    "eruptions[eruptions['last_known_eruption'] == '0 CE']"
   ]
  },
  {
   "cell_type": "code",
   "execution_count": 9,
   "id": "8ecbc093-e3a5-4596-be0c-1aa753f21723",
   "metadata": {},
   "outputs": [],
   "source": [
    "eruptions.query('last_known_eruption != \"0 CE\"', inplace = True)"
   ]
  },
  {
   "cell_type": "markdown",
   "id": "961d190b-849f-47ce-8d33-560dfc334e77",
   "metadata": {},
   "source": [
    "Next we can define a function to convert our BCE/CE string dates into integers \n",
    "that will be much easier plot and analyse. \n",
    "\n",
    "One of the difficulties of the BCE/CE system is that most data analysis tools \n",
    "don't support BCE dates, and it can be difficult to work around this by \n",
    "representing them with negative numbers (and CE dates with positive numbers) \n",
    "because there is no 'year 0'. As a simpler solution for this project, we can\n",
    "convert the dates to 'bp' (Before Present), which is usually reserved for \n",
    "radiocarbon dating but will suit our purposes here.\n",
    "\n",
    "I'll use the 'bp' format rather than 'BP' (which is used to indicate callibrated\n",
    "radiocarbon dates) and follow the standard convention of using 1950 CE as the \n",
    "definition of 'present'. Any eruptions post-dating 1950 will therefore appear as\n",
    "negative numbers on our new scale.\n",
    "\n",
    "We can define a function that will take in a BCE/CE string and split it into \n",
    "two, converting the numeric part into an integer and using the BCE/CE indicator \n",
    "to determine what arithmetic to apply to convert the date to 'bp' format. We'll \n",
    "also use this function to replace 'Unkown' with a true missing value `None`."
   ]
  },
  {
   "cell_type": "code",
   "execution_count": 10,
   "id": "c16ecc11-7242-43df-b760-2c3febc59f1d",
   "metadata": {},
   "outputs": [],
   "source": [
    "# Define function\n",
    "def era_date_to_bp(date, refdate = 1950, missing = ['Unknown']):\n",
    "    \n",
    "    # Convert any input in `missing` to `None`\n",
    "    if date in missing:\n",
    "        out = None\n",
    "    # Convert other input to 'bp'    \n",
    "    else:\n",
    "        \n",
    "        # Split string and convert year to integer\n",
    "        date_split = re.split(r\"\\s\", date)\n",
    "        date_split[0] = int(date_split[0])\n",
    "        \n",
    "        # Raise exception if year is 0, otherwise convert\n",
    "        if date_split[0] == 0:\n",
    "            raise Exception(\"There is no year '0' in the BCE/CE system\")\n",
    "        elif date_split[1] == \"BCE\":            \n",
    "            out = (refdate - 1) + date_split[0] # `refdate-1` - there is no year 0\n",
    "        elif date_split[1] == \"CE\":            \n",
    "            out = refdate - date_split[0]\n",
    "            \n",
    "    return out"
   ]
  },
  {
   "cell_type": "code",
   "execution_count": 11,
   "id": "ce498f30-04c6-4df3-ac02-0c65e5894177",
   "metadata": {},
   "outputs": [],
   "source": [
    "eruptions['last_eruption_bp'] = [era_date_to_bp(date) for date in eruptions['last_known_eruption']]"
   ]
  },
  {
   "cell_type": "markdown",
   "id": "9401a777-e134-464a-8e3d-46fdc52f3d72",
   "metadata": {},
   "source": [
    "Converting dates to BP, however, has revealed a large number of unknown \n",
    "(now `Null`) values. We only have 870 dates out of 1507 rows."
   ]
  },
  {
   "cell_type": "code",
   "execution_count": 12,
   "id": "a8bed079-f437-4e3d-b4f9-22997b2ab286",
   "metadata": {},
   "outputs": [
    {
     "name": "stdout",
     "output_type": "stream",
     "text": [
      "<class 'pandas.core.frame.DataFrame'>\n",
      "Int64Index: 1507 entries, 0 to 1507\n",
      "Data columns (total 13 columns):\n",
      " #   Column               Non-Null Count  Dtype  \n",
      "---  ------               --------------  -----  \n",
      " 0   id                   1507 non-null   int64  \n",
      " 1   name                 1507 non-null   object \n",
      " 2   country              1507 non-null   object \n",
      " 3   region               1507 non-null   object \n",
      " 4   type                 1507 non-null   object \n",
      " 5   activity_evidence    1506 non-null   object \n",
      " 6   last_known_eruption  1507 non-null   object \n",
      " 7   lat                  1507 non-null   float64\n",
      " 8   lon                  1507 non-null   float64\n",
      " 9   elevation            1507 non-null   int64  \n",
      " 10  dominant_rock        1454 non-null   object \n",
      " 11  tectonic_setting     1500 non-null   object \n",
      " 12  last_eruption_bp     870 non-null    float64\n",
      "dtypes: float64(3), int64(2), object(8)\n",
      "memory usage: 164.8+ KB\n"
     ]
    }
   ],
   "source": [
    "eruptions.info()"
   ]
  },
  {
   "cell_type": "markdown",
   "id": "a60067bf-d02d-483d-85c0-517296a4266b",
   "metadata": {},
   "source": [
    "### Types\n",
    "\n",
    "#### Overlapping categories\n",
    "\n",
    "Examining the unique values in the `type` column shows that we have overlapping \n",
    "categories. Generally, categories should be mutually exclusive for most types\n",
    "of analysis and a large number of categories makes visualisations less readable.\n",
    "We can make this variable less problematic and more useful by reducing overlaps\n",
    "and the total number of categories.\n",
    "\n",
    "Ideally, consolidating categories down should be done using domain knowledge,\n",
    "but for now we'll rely on some reasonable suppositions about issues we can\n",
    "observe just by looking at the unique values."
   ]
  },
  {
   "cell_type": "code",
   "execution_count": 13,
   "id": "7a3539d6-feb4-42cb-a457-5d91c7f53101",
   "metadata": {},
   "outputs": [
    {
     "name": "stdout",
     "output_type": "stream",
     "text": [
      "- Caldera\n",
      "- Caldera(s)\n",
      "- Complex\n",
      "- Complex(es)\n",
      "- Compound\n",
      "- Cone(s)\n",
      "- Crater rows\n",
      "- Explosion crater(s)\n",
      "- Fissure vent\n",
      "- Fissure vent(s)\n",
      "- Lava cone\n",
      "- Lava cone(s)\n",
      "- Lava dome\n",
      "- Lava dome(s)\n",
      "- Maar\n",
      "- Maar(s)\n",
      "- Pyroclastic cone\n",
      "- Pyroclastic cone(s)\n",
      "- Pyroclastic shield\n",
      "- Shield\n",
      "- Shield(s)\n",
      "- Stratovolcano\n",
      "- Stratovolcano(es)\n",
      "- Stratovolcano?\n",
      "- Subglacial\n",
      "- Submarine\n",
      "- Submarine(es)\n",
      "- Tuff cone\n",
      "- Tuff cone(s)\n",
      "- Tuff ring(s)\n",
      "- Unknown\n",
      "- Volcanic field\n",
      "- Volcanic field(s)\n"
     ]
    }
   ],
   "source": [
    "for i in eruptions.type.sort_values().unique():\n",
    "    print(f'- {i}')"
   ]
  },
  {
   "cell_type": "markdown",
   "id": "2e3e9ab1-27ab-48d2-b855-3c8c18183180",
   "metadata": {
    "tags": []
   },
   "source": [
    "##### **Singular vs Plural Distinctions**\n",
    "\n",
    "Firstly, we have cases where a 'singular' type is distinguished from a \n",
    "'*possible* plural' type, such as 'Caldera' and 'Caldera(s)'. We have:\n",
    "\n",
    "- No information about the criteria that defined this distinction\n",
    "- No way of quantifying a plural type numerically\n",
    "- No information about the potential range or scale of a plural quantity (e.g. \n",
    "  could 'Caldera(s)' refer to 10 or 100 calderas?). As we don't know the \n",
    "  potential scale, we don't know how meaningful it is to differentiate between \n",
    "  singular and plural. \n",
    "\n",
    "Therefore, it seems justified to remove the overlap between these categories \n",
    "and between other pairs that make the same distinction.\n",
    "\n",
    "We'll start by defining a list of the values that need to be changed, and use\n",
    "regular expressions to compile a dictionary of what the new values should be."
   ]
  },
  {
   "cell_type": "code",
   "execution_count": 14,
   "id": "347fe86d-ff23-42c8-9c56-140d5f2067f7",
   "metadata": {
    "scrolled": true,
    "tags": []
   },
   "outputs": [],
   "source": [
    "# Define a dictionary to handle `type` replacement\n",
    "\n",
    "## Start with all types\n",
    "new_types = eruptions.type.sort_values().unique()\n",
    "\n",
    "## Use regex to map originals to replacements in a list of tuples\n",
    "new_types = [(t, re.sub(r\"\\((es|s)\\)$\", \"\", t)) for t in new_types]\n",
    "\n",
    "## Drop values where original replacement are the same; for speed\n",
    "new_types = [None if t[0] == t[1] else t for t in new_types]\n",
    "new_types = list(compress(new_types, [t != None for t in new_types]))\n",
    "\n",
    "## Dictionary comprehension\n",
    "new_types = {k: v for k, v in new_types}"
   ]
  },
  {
   "cell_type": "markdown",
   "id": "cb9d4c0f-ac66-4186-a9c8-9f11c41f8901",
   "metadata": {},
   "source": [
    "We'll hold back on applying this replacement dictionary to the data for now,\n",
    "as we may add to it later."
   ]
  },
  {
   "cell_type": "markdown",
   "id": "f6ae06fc-1d3e-4085-8b61-db1888c064e0",
   "metadata": {
    "tags": []
   },
   "source": [
    "##### **Overlapping categories (uncertainty)**\n",
    "\n",
    "We have an uncertainly identified category `'Stratovolcano?'`, in \n",
    "addition to `'Stratovolcano'` and `'Stratovolcano(es)'`. Only four volcanoes\n",
    "have this uncertain type, however, so we'll handle this just by deleting the\n",
    "rows."
   ]
  },
  {
   "cell_type": "code",
   "execution_count": 15,
   "id": "670b6307-f5e7-48e9-a663-fad0155dfdf9",
   "metadata": {},
   "outputs": [
    {
     "data": {
      "text/plain": [
       "4"
      ]
     },
     "execution_count": 15,
     "metadata": {},
     "output_type": "execute_result"
    }
   ],
   "source": [
    "# Number of rows with Stratovolano? type\n",
    "eruptions.query(\"type == 'Stratovolcano?'\").shape[0]"
   ]
  },
  {
   "cell_type": "code",
   "execution_count": 16,
   "id": "fe1f98ac-97b7-4c40-812d-6c1a1f714521",
   "metadata": {},
   "outputs": [],
   "source": [
    "# Drop rows with uncertain type\n",
    "eruptions.query('type != \"Stratovolcano?\"', inplace = True)"
   ]
  },
  {
   "cell_type": "markdown",
   "id": "30565d02-018f-4fd5-bd08-881fd5da8a23",
   "metadata": {},
   "source": [
    "#### Other issues\n",
    "\n",
    "- 'Unknown'` can be replaced with `None`. We'll add this to our dictionary of\n",
    "   type replacements."
   ]
  },
  {
   "cell_type": "code",
   "execution_count": 17,
   "id": "1e04c29a-72ec-4f97-a448-be1986a8acf3",
   "metadata": {},
   "outputs": [],
   "source": [
    "new_types['Unknown'] = None"
   ]
  },
  {
   "cell_type": "markdown",
   "id": "d7513338-c0f8-4aae-bf5a-3a18dc33ee75",
   "metadata": {},
   "source": [
    "#### Apply Replacements\n",
    "\n",
    "Now our `new_types` dictionary is complete, so we can apply that to our data:"
   ]
  },
  {
   "cell_type": "code",
   "execution_count": 18,
   "id": "1a3f7ab4-1ba9-499d-b406-223a57f81d8a",
   "metadata": {},
   "outputs": [],
   "source": [
    "eruptions.replace({'type': new_types}, inplace=True)"
   ]
  },
  {
   "cell_type": "markdown",
   "id": "6df3644c-6e73-4060-ba74-a6755f037886",
   "metadata": {},
   "source": [
    "#### Further Technical Overlaps\n",
    "\n",
    "Examining the remaining categories makes it easier to spot some more potential\n",
    "issues:"
   ]
  },
  {
   "cell_type": "code",
   "execution_count": 19,
   "id": "a873a202-8826-4a25-af79-a88666851fb5",
   "metadata": {},
   "outputs": [
    {
     "name": "stdout",
     "output_type": "stream",
     "text": [
      "- Caldera\n",
      "- Complex\n",
      "- Compound\n",
      "- Cone\n",
      "- Crater rows\n",
      "- Explosion crater\n",
      "- Fissure vent\n",
      "- Lava cone\n",
      "- Lava dome\n",
      "- Maar\n",
      "- Pyroclastic cone\n",
      "- Pyroclastic shield\n",
      "- Shield\n",
      "- Stratovolcano\n",
      "- Subglacial\n",
      "- Submarine\n",
      "- Tuff cone\n",
      "- Tuff ring\n",
      "- Volcanic field\n",
      "- None\n"
     ]
    }
   ],
   "source": [
    "for i in eruptions.type.sort_values().unique():\n",
    "    print(f\"- {i}\")"
   ]
  },
  {
   "cell_type": "markdown",
   "id": "878a5c2b-d5c4-4d60-92ad-bec3e85796b0",
   "metadata": {},
   "source": [
    "We have two 'pyroclastic' categories, and they both overlap with other types \n",
    "('Shield' and 'Cone'). There are also 'Lava cone', 'Tuff cone' and 'Tuff ring' \n",
    "categories. These are examples where domain expertise is even more important\n",
    "for deciding whether non-mutually exclusive categories might be a problem.\n",
    "\n",
    "It seems clear that the remaining categories are split predominantly between\n",
    "'shape'-based classification (cone, dome, shield, ring), 'environmental'\n",
    "('submarine', 'subglacial') or some other form of vulancological or geographicic \n",
    "context for where the volcano is located ('crater rows', 'explosion crater', \n",
    "'volcanic field').\n",
    "\n",
    "The additional 'lava \\[x\\]', 'pyroclastic \\[x\\]', and 'tuff \\[x\\]' categories\n",
    "add some additional information about their volcanoes' typology, but it's\n",
    "unclear whether 'lava cone' is radically different from 'cone', for example.\n",
    "\n",
    "I contemplated exploring the potential impact of separating 'lava', \n",
    "'pyroclastic', and 'tuff' from the categories they're attached to by creating\n",
    "new boolean variables:\n",
    "\n",
    "- `type_is_lava`\n",
    "- `type_is_tuff`\n",
    "- `type_is_pyro`\n",
    "\n",
    "This would then allow the multiple 'cone' and 'shield' categories to be merged,\n",
    "creating a new 'dome' category in `type` from 'lava dome' as a side-effect.\n",
    "\n",
    "Ultimately, I decided against this as it would introduce more complexity than\n",
    "I wanted for this short project, and because these new boolean variables \n",
    "would have some artificially strong correlations with `type` that might distort\n",
    "key results.\n",
    "\n",
    "I'm including the code drafted to implement this change below, however:\n",
    "\n",
    "```python\n",
    "def detect_vol_type(x, cat):\n",
    "    \n",
    "    # Compile regex\n",
    "    regex = re.compile(cat)\n",
    "    \n",
    "    # Catch nulls\n",
    "    if x == None:\n",
    "        out = None\n",
    "    # True if match, false if no match\n",
    "    elif re.search(regex, x) != None:\n",
    "        out = True\n",
    "    else:\n",
    "        out = False\n",
    "    \n",
    "    # Return\n",
    "    return out\n",
    "\n",
    "# Create new boolean columns\n",
    "eruptions['type_is_lava'] = [detect_vol_type(t, \"^Lava\") for t in eruptions['type']]\n",
    "eruptions['type_is_tuff'] = [detect_vol_type(t, \"^Tuff\") for t in eruptions['type']]\n",
    "eruptions['type_is_pyro'] = [detect_vol_type(t, \"^Pyroclastic\") for t in eruptions['type']]\n",
    "\n",
    "# Define replacements for original types\n",
    "simple_types = eruptions['type'].sort_values().unique()\n",
    "simple_types = [st for st in simple_types if st != None and re.search(r\"(Lava|Tuff|Pyroclastic)\", st)]\n",
    "simple_types = {st: re.sub(r\"(Lava|Tuff|Pyroclastic)\\s\", \"\", st).title() for st in simple_types}\n",
    "\n",
    "# Implement replacements\n",
    "eruptions.replace({'type': simple_types}, inplace = True)eruptions.replace({'type': simple_types}, inplace = True)\n",
    "```"
   ]
  },
  {
   "cell_type": "markdown",
   "id": "072827fd-21f1-47f6-a4fb-4a7ffcfe4315",
   "metadata": {},
   "source": [
    "### Dominant Rock\n",
    "\n",
    "We next need to examine the given categories for `dominant_rock`. We can \n",
    "immediately make an improvement, however, by merging two values, `nan` and \n",
    "`'No Data'` which are both representing missing values."
   ]
  },
  {
   "cell_type": "code",
   "execution_count": 20,
   "id": "0f222d9a-1cdf-4b38-ab1d-71cd5f4a8129",
   "metadata": {},
   "outputs": [],
   "source": [
    "# Replace values that should be None\n",
    "eruptions['dominant_rock'].replace({np.nan: None, 'No Data': None}, inplace=True)"
   ]
  },
  {
   "cell_type": "markdown",
   "id": "e88d105f-95b1-4d15-825f-acc61be9de89",
   "metadata": {},
   "source": [
    "`dominant_rock` is another column with multiple data points in the same variable:"
   ]
  },
  {
   "cell_type": "code",
   "execution_count": 21,
   "id": "08475011-0cd9-4c2f-9612-9c0dc2d17589",
   "metadata": {},
   "outputs": [
    {
     "name": "stdout",
     "output_type": "stream",
     "text": [
      "- Andesite / Basaltic Andesite\n",
      "- Basalt / Picro-Basalt\n",
      "- Dacite\n",
      "- Foidite\n",
      "- Phono-tephrite /  Tephri-phonolite\n",
      "- Phonolite\n",
      "- Rhyolite\n",
      "- Trachyandesite / Basaltic Trachyandesite\n",
      "- Trachybasalt / Tephrite Basanite\n",
      "- Trachyte / Trachydacite\n",
      "- None\n"
     ]
    }
   ],
   "source": [
    "for e in eruptions['dominant_rock'].sort_values().unique():\n",
    "    print(f'- {e}')"
   ]
  },
  {
   "cell_type": "markdown",
   "id": "eb9e0f81-1bb7-49d3-97b0-963f8e79156b",
   "metadata": {},
   "source": [
    "Multiple categories are 'either or' types, such as 'Andesite / Basaltic \n",
    "Andesite'. We have some overlap between 'Trachyte / Trachydacite' and 'Dacite';\n",
    "between 'Phono-tephrite / Tephri-phonolite' and 'Phonolite' and so on. It's \n",
    "unclear whether 'either or' categories have been used to consolidate a longer \n",
    "list of more specific categories or because it can be difficult for \n",
    "vulcanologists to categorise a volcano's dominant geology.\n",
    "\n",
    "This is an area that requires more expert knowleldge to properly handle these \n",
    "categories for analysis purposes. As with `type`, I contemplated converting\n",
    "these to booleans using a regex-based approach where any category containing\n",
    "`'basalt'` would return `True` for a new `dr_is_basaltic` column, and any value\n",
    "containing `'trachy'` would return `True` for a new `dr_is_trachytic` column.\n",
    "\n",
    "This would remove the problem with overlapping categories, but I decided that\n",
    "it would simply replace it with a problem with artifical correlation between\n",
    "the new boolean columns, effecitvely replicating the overlap problem in a new\n",
    "form. It would also undermine the concept behind a '*dominant* rock' variable,\n",
    "which fundamentally recognises that a volcano's geological makeup is not\n",
    "monolithic, forcing the data collector to pick a dominant rock type.\n",
    "\n",
    "As before, I'm nevertheless including code drafted for this purpose below. It\n",
    "re-uses the `detect_vol_type()` function I created for `type`.\n",
    "\n",
    "```python\n",
    "# Create boolean columns for overlapping rock types\n",
    "\n",
    "## Dictionary of adjectives (keys) and regex (values) to match\n",
    "rock_type_booleans = {\n",
    "    'basaltic': 'basalt',\n",
    "    'andesitic': 'andesite',\n",
    "    'dacitic': 'dacite',\n",
    "    'phonolitic': 'phono',\n",
    "    'tephritic': 'tephri',\n",
    "    'trachytic': 'trachy',\n",
    "    'basanitic': 'basan'    \n",
    "}\n",
    "\n",
    "## Loop over dictionary to add boolean column by regex matching with `detect_vol_type()`\n",
    "\n",
    "for key, value in rock_type_booleans.items():\n",
    "    column_name = f'dr_is_{key}' # add a prefix to the column name\n",
    "    regex = f'(?i){value}' # make regex case non-sensitive\n",
    "    \n",
    "    eruptions[column_name] = [detect_vol_type(rock, regex) for rock in eruptions['dominant_rock']]\n",
    "```"
   ]
  },
  {
   "cell_type": "markdown",
   "id": "fcb86d3c-18ff-47c3-b5de-cd0a2a9ff6ea",
   "metadata": {},
   "source": [
    "### Tectonic Setting"
   ]
  },
  {
   "cell_type": "markdown",
   "id": "bb945f24-9f60-4a41-a69a-3a7e6dc37992",
   "metadata": {},
   "source": [
    "The `tectonic_setting` column is also made up of 'either or' categories, but they are more consistent than the `dominant_rock` values."
   ]
  },
  {
   "cell_type": "code",
   "execution_count": 22,
   "id": "ecae17e9-e831-47c6-a273-7eb99392b644",
   "metadata": {},
   "outputs": [
    {
     "name": "stdout",
     "output_type": "stream",
     "text": [
      "- Intraplate / Continental Crust (>25 km)\n",
      "- Intraplate / Intermediate Crust (15-25 km)\n",
      "- Intraplate / Oceanic Crust (< 15 km)\n",
      "- Rift Zone / Continental Crust (>25 km)\n",
      "- Rift Zone / Intermediate Crust (15-25 km)\n",
      "- Rift Zone / Oceanic Crust (< 15 km)\n",
      "- Subduction Zone / Continental Crust (>25 km)\n",
      "- Subduction Zone / Crust Thickness Unknown\n",
      "- Subduction Zone / Intermediate Crust (15-25 km)\n",
      "- Subduction Zone / Oceanic Crust (< 15 km)\n",
      "- Unknown\n",
      "- nan\n"
     ]
    }
   ],
   "source": [
    "for i in eruptions['tectonic_setting'].sort_values().unique():\n",
    "    print(f'- {i}')"
   ]
  },
  {
   "cell_type": "markdown",
   "id": "57e75aa8-ecb1-4b8c-8b97-41bc7ef1ecb0",
   "metadata": {},
   "source": [
    "As these values seem to be consistently in a 'Zone / Crust (Crust Thickness)' format, we can split them into separate columns rather than creating boolean variables."
   ]
  },
  {
   "cell_type": "code",
   "execution_count": 23,
   "id": "e4e81c28-39e1-4555-9559-f4ef495cc96f",
   "metadata": {},
   "outputs": [],
   "source": [
    "# Replace 'Unknown' and 'nan' with 'None'\n",
    "eruptions['tectonic_setting'].replace({'Unknown': None, np.nan: None}, inplace=True)\n",
    "\n",
    "# Split tectonic setting\n",
    "eruptions[['ts_zone', 'ts_crust_type']] = eruptions['tectonic_setting'].str.split(r'\\s/\\s', expand=True)"
   ]
  },
  {
   "cell_type": "markdown",
   "id": "6ef2bc1b-550a-4112-9384-6a142c86ab0b",
   "metadata": {},
   "source": [
    "Selecting our new columns and dropping the duplicates allows us to see that the measurements in the Crust Type column simply indicate how a measure of crust thickness has been binned. But, it also reveals that only one 'Zone' category ('Subduction Zone') pairs with 'Crust Thickness Unkown'. Therefore, we can probably safely replace 'Crust Thickness Unknown' with `None`."
   ]
  },
  {
   "cell_type": "code",
   "execution_count": 24,
   "id": "d5340fec-3932-4f41-b70c-e0106805708d",
   "metadata": {},
   "outputs": [
    {
     "data": {
      "text/html": [
       "<div>\n",
       "<style scoped>\n",
       "    .dataframe tbody tr th:only-of-type {\n",
       "        vertical-align: middle;\n",
       "    }\n",
       "\n",
       "    .dataframe tbody tr th {\n",
       "        vertical-align: top;\n",
       "    }\n",
       "\n",
       "    .dataframe thead th {\n",
       "        text-align: right;\n",
       "    }\n",
       "</style>\n",
       "<table border=\"1\" class=\"dataframe\">\n",
       "  <thead>\n",
       "    <tr style=\"text-align: right;\">\n",
       "      <th></th>\n",
       "      <th>ts_zone</th>\n",
       "      <th>ts_crust_type</th>\n",
       "    </tr>\n",
       "  </thead>\n",
       "  <tbody>\n",
       "    <tr>\n",
       "      <th>0</th>\n",
       "      <td>Rift Zone</td>\n",
       "      <td>Continental Crust (&gt;25 km)</td>\n",
       "    </tr>\n",
       "    <tr>\n",
       "      <th>2</th>\n",
       "      <td>Intraplate</td>\n",
       "      <td>Continental Crust (&gt;25 km)</td>\n",
       "    </tr>\n",
       "    <tr>\n",
       "      <th>4</th>\n",
       "      <td>Subduction Zone</td>\n",
       "      <td>Continental Crust (&gt;25 km)</td>\n",
       "    </tr>\n",
       "    <tr>\n",
       "      <th>278</th>\n",
       "      <td>Subduction Zone</td>\n",
       "      <td>Crust Thickness Unknown</td>\n",
       "    </tr>\n",
       "    <tr>\n",
       "      <th>48</th>\n",
       "      <td>Rift Zone</td>\n",
       "      <td>Intermediate Crust (15-25 km)</td>\n",
       "    </tr>\n",
       "    <tr>\n",
       "      <th>343</th>\n",
       "      <td>Subduction Zone</td>\n",
       "      <td>Intermediate Crust (15-25 km)</td>\n",
       "    </tr>\n",
       "    <tr>\n",
       "      <th>1462</th>\n",
       "      <td>Intraplate</td>\n",
       "      <td>Intermediate Crust (15-25 km)</td>\n",
       "    </tr>\n",
       "    <tr>\n",
       "      <th>44</th>\n",
       "      <td>Rift Zone</td>\n",
       "      <td>Oceanic Crust (&lt; 15 km)</td>\n",
       "    </tr>\n",
       "    <tr>\n",
       "      <th>201</th>\n",
       "      <td>Intraplate</td>\n",
       "      <td>Oceanic Crust (&lt; 15 km)</td>\n",
       "    </tr>\n",
       "    <tr>\n",
       "      <th>233</th>\n",
       "      <td>Subduction Zone</td>\n",
       "      <td>Oceanic Crust (&lt; 15 km)</td>\n",
       "    </tr>\n",
       "    <tr>\n",
       "      <th>18</th>\n",
       "      <td>None</td>\n",
       "      <td>None</td>\n",
       "    </tr>\n",
       "  </tbody>\n",
       "</table>\n",
       "</div>"
      ],
      "text/plain": [
       "              ts_zone                  ts_crust_type\n",
       "0           Rift Zone     Continental Crust (>25 km)\n",
       "2          Intraplate     Continental Crust (>25 km)\n",
       "4     Subduction Zone     Continental Crust (>25 km)\n",
       "278   Subduction Zone        Crust Thickness Unknown\n",
       "48          Rift Zone  Intermediate Crust (15-25 km)\n",
       "343   Subduction Zone  Intermediate Crust (15-25 km)\n",
       "1462       Intraplate  Intermediate Crust (15-25 km)\n",
       "44          Rift Zone        Oceanic Crust (< 15 km)\n",
       "201        Intraplate        Oceanic Crust (< 15 km)\n",
       "233   Subduction Zone        Oceanic Crust (< 15 km)\n",
       "18               None                           None"
      ]
     },
     "execution_count": 24,
     "metadata": {},
     "output_type": "execute_result"
    }
   ],
   "source": [
    "eruptions[['ts_zone', 'ts_crust_type']].drop_duplicates().sort_values('ts_crust_type')"
   ]
  },
  {
   "cell_type": "code",
   "execution_count": 25,
   "id": "18920c88-96f0-42c6-b61a-3089b867dc70",
   "metadata": {},
   "outputs": [],
   "source": [
    "eruptions['ts_crust_type'].replace({'Crust Thickness Unknown': None}, inplace = True)"
   ]
  },
  {
   "cell_type": "markdown",
   "id": "e927becd-3c56-44c1-a079-e4a39c562d84",
   "metadata": {},
   "source": [
    "Having identified that `ts_crust_type` is an ordered bin, we can strip out the measurements in kilometres and redefine the column as a pandas Category data type."
   ]
  },
  {
   "cell_type": "code",
   "execution_count": 26,
   "id": "d660ca0d-ab4d-46de-b6e1-365e0556e720",
   "metadata": {},
   "outputs": [],
   "source": [
    "# Strip out km measurement bins\n",
    "eruptions['ts_crust_type'] = [re.sub(r'\\s\\(.*km\\)$', '', ct) if ct != None else ct for ct in eruptions['ts_crust_type']]"
   ]
  },
  {
   "cell_type": "code",
   "execution_count": 27,
   "id": "027b23ad-b0ed-4cf8-a7a1-f861cdb9a47a",
   "metadata": {},
   "outputs": [
    {
     "data": {
      "text/plain": [
       "['Oceanic Crust', 'Intermediate Crust', 'Continental Crust']"
      ]
     },
     "execution_count": 27,
     "metadata": {},
     "output_type": "execute_result"
    }
   ],
   "source": [
    "# Natural alphabetic ordering of the categories matches the numeric bin order, so use unique values (-None) to define the category\n",
    "ts_crust_cat = eruptions['ts_crust_type'].dropna().unique().tolist()\n",
    "ts_crust_cat.sort(reverse=True)\n",
    "ts_crust_cat"
   ]
  },
  {
   "cell_type": "code",
   "execution_count": 28,
   "id": "65a1e52f-aa2c-4fdc-9221-bdc279140018",
   "metadata": {},
   "outputs": [],
   "source": [
    "# Redefine the column as a category\n",
    "eruptions['ts_crust_type'] = pd.Categorical(eruptions['ts_crust_type'], categories = ts_crust_cat, ordered = True)"
   ]
  },
  {
   "cell_type": "markdown",
   "id": "b87f2131-8e80-420d-81e4-8719fbef6023",
   "metadata": {},
   "source": [
    "As we'll export the final cleaned version of this data to CSV later,\n",
    "we'll generalise this code converting the column to a category\n",
    "as a function so it can be easily repeated in other\n",
    "notebooks. This will be saved as a function in src/.\n",
    "\n",
    "```python\n",
    "def ts_crust_type_to_cat(data):\n",
    "    \n",
    "    # Get categories\n",
    "    categories = data['ts_crust_type'].dropna().unique().tolist()\n",
    "    categories.sort(reverse = True)\n",
    "    \n",
    "    # Define category\n",
    "    data['ts_crust_type'] = pd.Categorical(\n",
    "        data['ts_crust_type'],\n",
    "        categories = categories,\n",
    "        ordered = True\n",
    "    )\n",
    "    \n",
    "    # Return\n",
    "    return data\n",
    "```"
   ]
  },
  {
   "cell_type": "markdown",
   "id": "a5f6a21e-0058-468e-9905-f4595a5e1299",
   "metadata": {},
   "source": [
    "## Finalise Cleaning\n",
    "\n",
    "To finish up our cleaning, we'll drop the columns we no longer need. These are\n",
    "the columns we're replacing with new ones."
   ]
  },
  {
   "cell_type": "code",
   "execution_count": 29,
   "id": "7f145e2c-8180-4c63-843d-4eb641afe614",
   "metadata": {},
   "outputs": [],
   "source": [
    "eruptions.drop(columns = ['last_known_eruption', 'tectonic_setting'], inplace = True)"
   ]
  },
  {
   "cell_type": "code",
   "execution_count": 30,
   "id": "76fd7d12-69d8-4d40-bc06-14651594acfa",
   "metadata": {},
   "outputs": [
    {
     "data": {
      "text/html": [
       "<div>\n",
       "<style scoped>\n",
       "    .dataframe tbody tr th:only-of-type {\n",
       "        vertical-align: middle;\n",
       "    }\n",
       "\n",
       "    .dataframe tbody tr th {\n",
       "        vertical-align: top;\n",
       "    }\n",
       "\n",
       "    .dataframe thead th {\n",
       "        text-align: right;\n",
       "    }\n",
       "</style>\n",
       "<table border=\"1\" class=\"dataframe\">\n",
       "  <thead>\n",
       "    <tr style=\"text-align: right;\">\n",
       "      <th></th>\n",
       "      <th>id</th>\n",
       "      <th>name</th>\n",
       "      <th>country</th>\n",
       "      <th>region</th>\n",
       "      <th>type</th>\n",
       "      <th>activity_evidence</th>\n",
       "      <th>lat</th>\n",
       "      <th>lon</th>\n",
       "      <th>elevation</th>\n",
       "      <th>dominant_rock</th>\n",
       "      <th>last_eruption_bp</th>\n",
       "      <th>ts_zone</th>\n",
       "      <th>ts_crust_type</th>\n",
       "    </tr>\n",
       "  </thead>\n",
       "  <tbody>\n",
       "    <tr>\n",
       "      <th>0</th>\n",
       "      <td>210010</td>\n",
       "      <td>West Eifel Volcanic Field</td>\n",
       "      <td>Germany</td>\n",
       "      <td>Mediterranean and Western Asia</td>\n",
       "      <td>Maar</td>\n",
       "      <td>Eruption Dated</td>\n",
       "      <td>50.170</td>\n",
       "      <td>6.85</td>\n",
       "      <td>600</td>\n",
       "      <td>Foidite</td>\n",
       "      <td>10249.0</td>\n",
       "      <td>Rift Zone</td>\n",
       "      <td>Continental Crust</td>\n",
       "    </tr>\n",
       "    <tr>\n",
       "      <th>1</th>\n",
       "      <td>210020</td>\n",
       "      <td>Chaine des Puys</td>\n",
       "      <td>France</td>\n",
       "      <td>Mediterranean and Western Asia</td>\n",
       "      <td>Lava dome</td>\n",
       "      <td>Eruption Dated</td>\n",
       "      <td>45.775</td>\n",
       "      <td>2.97</td>\n",
       "      <td>1464</td>\n",
       "      <td>Basalt / Picro-Basalt</td>\n",
       "      <td>5989.0</td>\n",
       "      <td>Rift Zone</td>\n",
       "      <td>Continental Crust</td>\n",
       "    </tr>\n",
       "    <tr>\n",
       "      <th>2</th>\n",
       "      <td>210030</td>\n",
       "      <td>Olot Volcanic Field</td>\n",
       "      <td>Spain</td>\n",
       "      <td>Mediterranean and Western Asia</td>\n",
       "      <td>Pyroclastic cone</td>\n",
       "      <td>Evidence Credible</td>\n",
       "      <td>42.170</td>\n",
       "      <td>2.53</td>\n",
       "      <td>893</td>\n",
       "      <td>Trachybasalt / Tephrite Basanite</td>\n",
       "      <td>NaN</td>\n",
       "      <td>Intraplate</td>\n",
       "      <td>Continental Crust</td>\n",
       "    </tr>\n",
       "    <tr>\n",
       "      <th>3</th>\n",
       "      <td>210040</td>\n",
       "      <td>Calatrava Volcanic Field</td>\n",
       "      <td>Spain</td>\n",
       "      <td>Mediterranean and Western Asia</td>\n",
       "      <td>Pyroclastic cone</td>\n",
       "      <td>Eruption Dated</td>\n",
       "      <td>38.870</td>\n",
       "      <td>-4.02</td>\n",
       "      <td>1117</td>\n",
       "      <td>Basalt / Picro-Basalt</td>\n",
       "      <td>5549.0</td>\n",
       "      <td>Intraplate</td>\n",
       "      <td>Continental Crust</td>\n",
       "    </tr>\n",
       "    <tr>\n",
       "      <th>4</th>\n",
       "      <td>211001</td>\n",
       "      <td>Larderello</td>\n",
       "      <td>Italy</td>\n",
       "      <td>Mediterranean and Western Asia</td>\n",
       "      <td>Explosion crater</td>\n",
       "      <td>Eruption Observed</td>\n",
       "      <td>43.250</td>\n",
       "      <td>10.87</td>\n",
       "      <td>500</td>\n",
       "      <td>None</td>\n",
       "      <td>668.0</td>\n",
       "      <td>Subduction Zone</td>\n",
       "      <td>Continental Crust</td>\n",
       "    </tr>\n",
       "  </tbody>\n",
       "</table>\n",
       "</div>"
      ],
      "text/plain": [
       "       id                       name  country                          region  \\\n",
       "0  210010  West Eifel Volcanic Field  Germany  Mediterranean and Western Asia   \n",
       "1  210020            Chaine des Puys   France  Mediterranean and Western Asia   \n",
       "2  210030        Olot Volcanic Field    Spain  Mediterranean and Western Asia   \n",
       "3  210040   Calatrava Volcanic Field    Spain  Mediterranean and Western Asia   \n",
       "4  211001                 Larderello    Italy  Mediterranean and Western Asia   \n",
       "\n",
       "               type  activity_evidence     lat    lon  elevation  \\\n",
       "0              Maar     Eruption Dated  50.170   6.85        600   \n",
       "1         Lava dome     Eruption Dated  45.775   2.97       1464   \n",
       "2  Pyroclastic cone  Evidence Credible  42.170   2.53        893   \n",
       "3  Pyroclastic cone     Eruption Dated  38.870  -4.02       1117   \n",
       "4  Explosion crater  Eruption Observed  43.250  10.87        500   \n",
       "\n",
       "                      dominant_rock  last_eruption_bp          ts_zone  \\\n",
       "0                           Foidite           10249.0        Rift Zone   \n",
       "1             Basalt / Picro-Basalt            5989.0        Rift Zone   \n",
       "2  Trachybasalt / Tephrite Basanite               NaN       Intraplate   \n",
       "3             Basalt / Picro-Basalt            5549.0       Intraplate   \n",
       "4                              None             668.0  Subduction Zone   \n",
       "\n",
       "       ts_crust_type  \n",
       "0  Continental Crust  \n",
       "1  Continental Crust  \n",
       "2  Continental Crust  \n",
       "3  Continental Crust  \n",
       "4  Continental Crust  "
      ]
     },
     "execution_count": 30,
     "metadata": {},
     "output_type": "execute_result"
    }
   ],
   "source": [
    "eruptions.head()"
   ]
  },
  {
   "cell_type": "markdown",
   "id": "ed309fdf-b584-452a-80c2-caeb4685ff14",
   "metadata": {},
   "source": [
    "Next we'll reorder the remaining columns so variables with similar meanings are \n",
    "clustered together for easy reading:"
   ]
  },
  {
   "cell_type": "code",
   "execution_count": 31,
   "id": "739d53ea-4264-4f1a-953b-808c835d1f83",
   "metadata": {},
   "outputs": [],
   "source": [
    "# Define column order\n",
    "\n",
    "## Define column order\n",
    "eruptions_col_order = [\n",
    "    # Identifiers\n",
    "    'id', \n",
    "    'name', \n",
    "    # Geography in increasing specificity\n",
    "    'region', \n",
    "    'country', \n",
    "    'lon', \n",
    "    'lat', \n",
    "    'elevation', \n",
    "    # Taxonomy\n",
    "    'type',\n",
    "    'dominant_rock',\n",
    "    'ts_zone',\n",
    "    'ts_crust_type',\n",
    "    # Activity\n",
    "    'last_eruption_bp',\n",
    "    'activity_evidence',\n",
    "]\n",
    "\n",
    "### Add `type_*` columns to order\n",
    "\n",
    "# Set column order\n",
    "eruptions = eruptions[eruptions_col_order]"
   ]
  },
  {
   "cell_type": "code",
   "execution_count": 32,
   "id": "1414d26a-832d-4b58-8637-5dbe8897d09e",
   "metadata": {},
   "outputs": [
    {
     "data": {
      "text/html": [
       "<div>\n",
       "<style scoped>\n",
       "    .dataframe tbody tr th:only-of-type {\n",
       "        vertical-align: middle;\n",
       "    }\n",
       "\n",
       "    .dataframe tbody tr th {\n",
       "        vertical-align: top;\n",
       "    }\n",
       "\n",
       "    .dataframe thead th {\n",
       "        text-align: right;\n",
       "    }\n",
       "</style>\n",
       "<table border=\"1\" class=\"dataframe\">\n",
       "  <thead>\n",
       "    <tr style=\"text-align: right;\">\n",
       "      <th></th>\n",
       "      <th>id</th>\n",
       "      <th>name</th>\n",
       "      <th>region</th>\n",
       "      <th>country</th>\n",
       "      <th>lon</th>\n",
       "      <th>lat</th>\n",
       "      <th>elevation</th>\n",
       "      <th>type</th>\n",
       "      <th>dominant_rock</th>\n",
       "      <th>ts_zone</th>\n",
       "      <th>ts_crust_type</th>\n",
       "      <th>last_eruption_bp</th>\n",
       "      <th>activity_evidence</th>\n",
       "    </tr>\n",
       "  </thead>\n",
       "  <tbody>\n",
       "    <tr>\n",
       "      <th>0</th>\n",
       "      <td>210010</td>\n",
       "      <td>West Eifel Volcanic Field</td>\n",
       "      <td>Mediterranean and Western Asia</td>\n",
       "      <td>Germany</td>\n",
       "      <td>6.85</td>\n",
       "      <td>50.170</td>\n",
       "      <td>600</td>\n",
       "      <td>Maar</td>\n",
       "      <td>Foidite</td>\n",
       "      <td>Rift Zone</td>\n",
       "      <td>Continental Crust</td>\n",
       "      <td>10249.0</td>\n",
       "      <td>Eruption Dated</td>\n",
       "    </tr>\n",
       "    <tr>\n",
       "      <th>1</th>\n",
       "      <td>210020</td>\n",
       "      <td>Chaine des Puys</td>\n",
       "      <td>Mediterranean and Western Asia</td>\n",
       "      <td>France</td>\n",
       "      <td>2.97</td>\n",
       "      <td>45.775</td>\n",
       "      <td>1464</td>\n",
       "      <td>Lava dome</td>\n",
       "      <td>Basalt / Picro-Basalt</td>\n",
       "      <td>Rift Zone</td>\n",
       "      <td>Continental Crust</td>\n",
       "      <td>5989.0</td>\n",
       "      <td>Eruption Dated</td>\n",
       "    </tr>\n",
       "    <tr>\n",
       "      <th>2</th>\n",
       "      <td>210030</td>\n",
       "      <td>Olot Volcanic Field</td>\n",
       "      <td>Mediterranean and Western Asia</td>\n",
       "      <td>Spain</td>\n",
       "      <td>2.53</td>\n",
       "      <td>42.170</td>\n",
       "      <td>893</td>\n",
       "      <td>Pyroclastic cone</td>\n",
       "      <td>Trachybasalt / Tephrite Basanite</td>\n",
       "      <td>Intraplate</td>\n",
       "      <td>Continental Crust</td>\n",
       "      <td>NaN</td>\n",
       "      <td>Evidence Credible</td>\n",
       "    </tr>\n",
       "    <tr>\n",
       "      <th>3</th>\n",
       "      <td>210040</td>\n",
       "      <td>Calatrava Volcanic Field</td>\n",
       "      <td>Mediterranean and Western Asia</td>\n",
       "      <td>Spain</td>\n",
       "      <td>-4.02</td>\n",
       "      <td>38.870</td>\n",
       "      <td>1117</td>\n",
       "      <td>Pyroclastic cone</td>\n",
       "      <td>Basalt / Picro-Basalt</td>\n",
       "      <td>Intraplate</td>\n",
       "      <td>Continental Crust</td>\n",
       "      <td>5549.0</td>\n",
       "      <td>Eruption Dated</td>\n",
       "    </tr>\n",
       "    <tr>\n",
       "      <th>4</th>\n",
       "      <td>211001</td>\n",
       "      <td>Larderello</td>\n",
       "      <td>Mediterranean and Western Asia</td>\n",
       "      <td>Italy</td>\n",
       "      <td>10.87</td>\n",
       "      <td>43.250</td>\n",
       "      <td>500</td>\n",
       "      <td>Explosion crater</td>\n",
       "      <td>None</td>\n",
       "      <td>Subduction Zone</td>\n",
       "      <td>Continental Crust</td>\n",
       "      <td>668.0</td>\n",
       "      <td>Eruption Observed</td>\n",
       "    </tr>\n",
       "  </tbody>\n",
       "</table>\n",
       "</div>"
      ],
      "text/plain": [
       "       id                       name                          region  country  \\\n",
       "0  210010  West Eifel Volcanic Field  Mediterranean and Western Asia  Germany   \n",
       "1  210020            Chaine des Puys  Mediterranean and Western Asia   France   \n",
       "2  210030        Olot Volcanic Field  Mediterranean and Western Asia    Spain   \n",
       "3  210040   Calatrava Volcanic Field  Mediterranean and Western Asia    Spain   \n",
       "4  211001                 Larderello  Mediterranean and Western Asia    Italy   \n",
       "\n",
       "     lon     lat  elevation              type  \\\n",
       "0   6.85  50.170        600              Maar   \n",
       "1   2.97  45.775       1464         Lava dome   \n",
       "2   2.53  42.170        893  Pyroclastic cone   \n",
       "3  -4.02  38.870       1117  Pyroclastic cone   \n",
       "4  10.87  43.250        500  Explosion crater   \n",
       "\n",
       "                      dominant_rock          ts_zone      ts_crust_type  \\\n",
       "0                           Foidite        Rift Zone  Continental Crust   \n",
       "1             Basalt / Picro-Basalt        Rift Zone  Continental Crust   \n",
       "2  Trachybasalt / Tephrite Basanite       Intraplate  Continental Crust   \n",
       "3             Basalt / Picro-Basalt       Intraplate  Continental Crust   \n",
       "4                              None  Subduction Zone  Continental Crust   \n",
       "\n",
       "   last_eruption_bp  activity_evidence  \n",
       "0           10249.0     Eruption Dated  \n",
       "1            5989.0     Eruption Dated  \n",
       "2               NaN  Evidence Credible  \n",
       "3            5549.0     Eruption Dated  \n",
       "4             668.0  Eruption Observed  "
      ]
     },
     "execution_count": 32,
     "metadata": {},
     "output_type": "execute_result"
    }
   ],
   "source": [
    "eruptions.head()"
   ]
  },
  {
   "cell_type": "code",
   "execution_count": 33,
   "id": "61ae728e-f87c-4f64-9c4d-659250a4c7e6",
   "metadata": {},
   "outputs": [
    {
     "name": "stdout",
     "output_type": "stream",
     "text": [
      "<class 'pandas.core.frame.DataFrame'>\n",
      "Int64Index: 1503 entries, 0 to 1507\n",
      "Data columns (total 13 columns):\n",
      " #   Column             Non-Null Count  Dtype   \n",
      "---  ------             --------------  -----   \n",
      " 0   id                 1503 non-null   int64   \n",
      " 1   name               1503 non-null   object  \n",
      " 2   region             1503 non-null   object  \n",
      " 3   country            1503 non-null   object  \n",
      " 4   lon                1503 non-null   float64 \n",
      " 5   lat                1503 non-null   float64 \n",
      " 6   elevation          1503 non-null   int64   \n",
      " 7   type               1500 non-null   object  \n",
      " 8   dominant_rock      1393 non-null   object  \n",
      " 9   ts_zone            1495 non-null   object  \n",
      " 10  ts_crust_type      1412 non-null   category\n",
      " 11  last_eruption_bp   868 non-null    float64 \n",
      " 12  activity_evidence  1502 non-null   object  \n",
      "dtypes: category(1), float64(3), int64(2), object(7)\n",
      "memory usage: 154.2+ KB\n"
     ]
    }
   ],
   "source": [
    "eruptions.info()"
   ]
  },
  {
   "cell_type": "markdown",
   "id": "f473cb01-4369-45c7-bda5-35fc842fe37b",
   "metadata": {},
   "source": [
    "## Export"
   ]
  },
  {
   "cell_type": "code",
   "execution_count": 34,
   "id": "c5926fe1-64e9-4abb-a824-358f5f91f6fa",
   "metadata": {},
   "outputs": [],
   "source": [
    "eruptions.to_csv(here + 'data/processed/eruptions.csv', index = False)"
   ]
  }
 ],
 "metadata": {
  "kernelspec": {
   "display_name": "Python 3 (ipykernel)",
   "language": "python",
   "name": "python3"
  },
  "language_info": {
   "codemirror_mode": {
    "name": "ipython",
    "version": 3
   },
   "file_extension": ".py",
   "mimetype": "text/x-python",
   "name": "python",
   "nbconvert_exporter": "python",
   "pygments_lexer": "ipython3",
   "version": "3.9.5"
  }
 },
 "nbformat": 4,
 "nbformat_minor": 5
}
